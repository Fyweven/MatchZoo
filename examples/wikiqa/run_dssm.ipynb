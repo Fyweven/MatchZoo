{
 "cells": [
  {
   "cell_type": "code",
   "execution_count": 3,
   "metadata": {},
   "outputs": [],
   "source": [
    "'''\n",
    "The example file for running the train/test phases of DSSM\n",
    "'''\n",
    "from matchzoo import preprocessor\n",
    "from matchzoo import generators\n",
    "from matchzoo import models\n"
   ]
  },
  {
   "cell_type": "markdown",
   "metadata": {},
   "source": [
    "We take WikiQA as the example data to show how to run DSSM with MatchZoo."
   ]
  },
  {
   "cell_type": "code",
   "execution_count": 5,
   "metadata": {},
   "outputs": [],
   "source": [
    "train = [\n",
    "    (\"id0\", \"id1\", \"beijing\", \"Beijing is capital of China\", 1),\n",
    "    (\"id0\", \"id2\", \"beijing\", \"China is in east Asia\", 0),\n",
    "    (\"id0\", \"id3\", \"beijing\", \"Summer in Beijing is hot.\", 1)\n",
    "]\n",
    "test = [\n",
    "    (\"id0\", \"id4\", \"beijing\", \"I visted beijing yesterday.\")\n",
    "]"
   ]
  },
  {
   "cell_type": "markdown",
   "metadata": {},
   "source": [
    "Preprocess your input data in three lines of code, keep track parameters to be passed into the model."
   ]
  },
  {
   "cell_type": "code",
   "execution_count": 7,
   "metadata": {},
   "outputs": [
    {
     "name": "stderr",
     "output_type": "stream",
     "text": [
      "2018-08-18 14:19:37,070 - matchzoo.preprocessor.dssm_preprocessor - INFO - Start building vocabulary & fitting parameters.\n",
      "100%|██████████| 3/3 [00:00<00:00, 38.81it/s]\n",
      "2018-08-18 14:19:37,153 - matchzoo.preprocessor.dssm_preprocessor - INFO - Start processing input data for train stage.\n",
      "100%|██████████| 3/3 [00:00<00:00, 46.76it/s]\n",
      "2018-08-18 14:19:37,222 - matchzoo.preprocessor.dssm_preprocessor - INFO - Start processing input data for test stage.\n",
      "100%|██████████| 1/1 [00:00<00:00, 60.22it/s]\n"
     ]
    }
   ],
   "source": [
    "dssm_preprocessor = preprocessor.DSSMPreprocessor()\n",
    "processed_tr = dssm_preprocessor.fit_transform(train, stage='train')\n",
    "processed_te = dssm_preprocessor.fit_transform(test, stage='test')\n",
    "# DSSM expect dimensionality of letter-trigrams as input shape.\n",
    "# The fitted parameters has been stored in `context` during preprocessing on training data.\n",
    "input_shapes = processed_tr.context['input_shapes']"
   ]
  },
  {
   "cell_type": "markdown",
   "metadata": {},
   "source": [
    "Use MatchZoo generators module to generate point-wise, pair-wise or list-wise inputs into batches."
   ]
  },
  {
   "cell_type": "code",
   "execution_count": 10,
   "metadata": {},
   "outputs": [],
   "source": [
    "generator_tr = generators.PointGenerator(processed_tr)\n",
    "generator_te = generators.PointGenerator(processed_te)\n",
    "# Example, train with generator, test with the first batch.\n",
    "X_te, y_te = generator_te[0]"
   ]
  },
  {
   "cell_type": "markdown",
   "metadata": {},
   "source": [
    "Train a Deep Semantic Structured Model, make predictions on test data."
   ]
  },
  {
   "cell_type": "code",
   "execution_count": 12,
   "metadata": {},
   "outputs": [
    {
     "name": "stdout",
     "output_type": "stream",
     "text": [
      "Epoch 1/1\n",
      "1/1 [==============================] - 0s 252ms/step - loss: 0.5363 - acc: 0.6667\n"
     ]
    }
   ],
   "source": [
    "dssm_model = models.DSSMModel()\n",
    "dssm_model.params['input_shapes'] = input_shapes\n",
    "dssm_model.guess_and_fill_missing_params()\n",
    "dssm_model.build()\n",
    "dssm_model.compile()\n",
    "dssm_model.fit_generator(generator_tr)\n",
    "# Make predictions\n",
    "predictions = dssm_model.predict([X_te.text_left, X_te.text_right])"
   ]
  },
  {
   "cell_type": "markdown",
   "metadata": {},
   "source": [
    "For detailed usage, such as hyper-parameters, model persistence, evaluation, please check our documention: English 中文\n",
    "\n",
    "If you're interested in the cutting-edge research progress, please take a look at awaresome neural models for semantic match."
   ]
  },
  {
   "cell_type": "code",
   "execution_count": null,
   "metadata": {},
   "outputs": [],
   "source": []
  },
  {
   "cell_type": "code",
   "execution_count": null,
   "metadata": {},
   "outputs": [],
   "source": []
  },
  {
   "cell_type": "code",
   "execution_count": null,
   "metadata": {},
   "outputs": [],
   "source": []
  }
 ],
 "metadata": {
  "kernelspec": {
   "display_name": "Python 3",
   "language": "python",
   "name": "python3"
  },
  "language_info": {
   "codemirror_mode": {
    "name": "ipython",
    "version": 3
   },
   "file_extension": ".py",
   "mimetype": "text/x-python",
   "name": "python",
   "nbconvert_exporter": "python",
   "pygments_lexer": "ipython3",
   "version": "3.6.5"
  }
 },
 "nbformat": 4,
 "nbformat_minor": 1
}

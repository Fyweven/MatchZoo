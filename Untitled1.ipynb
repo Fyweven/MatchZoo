{
 "cells": [
  {
   "cell_type": "code",
   "execution_count": 1,
   "metadata": {},
   "outputs": [
    {
     "name": "stdout",
     "output_type": "stream",
     "text": [
      "train 20360 [('Q1', 'D1-0', 'how are glacier caves formed?', 'A partly submerged glacier cave on Perito Moreno Glacier .', '0\\n'), ('Q1', 'D1-1', 'how are glacier caves formed?', 'The ice facade is approximately 60 m high', '0\\n'), ('Q1', 'D1-2', 'how are glacier caves formed?', 'Ice formations in the Titlis glacier cave', '0\\n'), ('Q1', 'D1-3', 'how are glacier caves formed?', 'A glacier cave is a cave formed within the ice of a glacier .', '1\\n'), ('Q1', 'D1-4', 'how are glacier caves formed?', 'Glacier caves are often called ice caves , but this term is properly used to describe bedrock caves that contain year-round ice.', '0\\n'), ('Q2', 'D2-0', 'How are the directions of the velocity and force vectors related in a circular motion', 'In physics , circular motion is a movement of an object along the circumference of a circle or rotation along a circular path.', '0\\n'), ('Q2', 'D2-1', 'How are the directions of the velocity and force vectors related in a circular motion', 'It can be uniform, with constant angular rate of rotation (and constant speed), or non-uniform with a changing rate of rotation.', '0\\n'), ('Q2', 'D2-2', 'How are the directions of the velocity and force vectors related in a circular motion', 'The rotation around a fixed axis of a three-dimensional body involves circular motion of its parts.', '0\\n'), ('Q2', 'D2-3', 'How are the directions of the velocity and force vectors related in a circular motion', 'The equations of motion describe the movement of the center of mass of a body.', '0\\n'), ('Q2', 'D2-4', 'How are the directions of the velocity and force vectors related in a circular motion', 'Examples of circular motion include: an artificial satellite orbiting the Earth at constant height, a stone which is tied to a rope and is being swung in circles, a car turning through a curve in a race track , an electron moving perpendicular to a uniform magnetic field , and a gear turning inside a mechanism.', '0\\n')]\n"
     ]
    }
   ],
   "source": [
    "data_folder  = '../../data/WikiQA/WikiQACorpus/'\n",
    "\n",
    "def read_data(input):\n",
    "    output_list = []\n",
    "    index = 0\n",
    "    with open(input) as fin:\n",
    "        for l in fin:\n",
    "            tok = l.split('\\t')\n",
    "            if index != 0:\n",
    "                output_list.append((tok[0], tok[4], tok[1], tok[5], tok[6])) # qid, did, q, d, label \n",
    "            index += 1\n",
    "    return output_list\n",
    "\n",
    "train = read_data(data_folder + 'WikiQA-train.tsv')\n",
    "print ('train', len(train), train[0:10])\n",
    "dev = read_data(data_folder + 'WikiQA-dev.tsv')\n",
    "test = read_data(data_folder + 'WikiQA-test.tsv')"
   ]
  },
  {
   "cell_type": "code",
   "execution_count": 2,
   "metadata": {},
   "outputs": [],
   "source": [
    "test_copy = []\n",
    "for qid,did,q,d,_ in test:\n",
    "    test_copy.append((qid,did,q,d))\n",
    "test = test_copy"
   ]
  },
  {
   "cell_type": "code",
   "execution_count": 4,
   "metadata": {},
   "outputs": [
    {
     "name": "stderr",
     "output_type": "stream",
     "text": [
      "2018-08-23 10:59:54,148 - matchzoo.preprocessor.dssm_preprocessor - INFO - Start building vocabulary & fitting parameters.\n",
      "20959it [09:05, 38.42it/s]\n",
      "2018-08-23 11:08:59,871 - matchzoo.preprocessor.dssm_preprocessor - INFO - Start processing input data for train stage.\n",
      "100%|██████████| 20959/20959 [00:01<00:00, 13793.57it/s]\n",
      "2018-08-23 11:09:01,409 - matchzoo.preprocessor.dssm_preprocessor - INFO - Start processing input data for test stage.\n",
      "6594it [02:51, 38.44it/s]\n"
     ]
    }
   ],
   "source": [
    "# Initialize a dssm preprocessor.# Initi \n",
    "from matchzoo import preprocessor\n",
    "dssm_preprocessor = preprocessor.DSSMPreprocessor()\n",
    "processed_tr = dssm_preprocessor.fit_transform(train, stage='train')\n",
    "processed_te = dssm_preprocessor.fit_transform(test, stage='test')"
   ]
  },
  {
   "cell_type": "code",
   "execution_count": null,
   "metadata": {},
   "outputs": [],
   "source": []
  }
 ],
 "metadata": {
  "kernelspec": {
   "display_name": "Python 3",
   "language": "python",
   "name": "python3"
  },
  "language_info": {
   "codemirror_mode": {
    "name": "ipython",
    "version": 3
   },
   "file_extension": ".py",
   "mimetype": "text/x-python",
   "name": "python",
   "nbconvert_exporter": "python",
   "pygments_lexer": "ipython3",
   "version": "3.6.5"
  }
 },
 "nbformat": 4,
 "nbformat_minor": 2
}
